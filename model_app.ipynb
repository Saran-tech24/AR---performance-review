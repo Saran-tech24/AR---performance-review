{
 "cells": [
  {
   "cell_type": "code",
   "execution_count": 82,
   "id": "a56c07e4",
   "metadata": {},
   "outputs": [],
   "source": [
    "# Import necessary libraries\n",
    "import pandas as pd\n",
    "import numpy as np\n",
    "from sklearn.model_selection import train_test_split\n",
    "from sklearn.preprocessing import StandardScaler\n",
    "from sklearn.metrics import mean_squared_error\n",
    "from sklearn.metrics import mean_squared_error, r2_score\n",
    "from sklearn.linear_model import LinearRegression\n",
    "from sklearn.tree import DecisionTreeRegressor\n",
    "from sklearn.ensemble import RandomForestRegressor, GradientBoostingRegressor\n",
    "from sklearn.neighbors import KNeighborsRegressor\n",
    "from sklearn.linear_model import LogisticRegression\n",
    "from xgboost import XGBRegressor as xgb\n",
    "from sklearn.metrics import accuracy_score, classification_report, confusion_matrix\n",
    "from sklearn.svm import SVR"
   ]
  },
  {
   "cell_type": "code",
   "execution_count": 83,
   "id": "cc0ff29b",
   "metadata": {},
   "outputs": [
    {
     "name": "stdout",
     "output_type": "stream",
     "text": [
      "Fake RCM data saved to 'fake_rcm_data.xlsx'\n"
     ]
    }
   ],
   "source": [
    "import pandas as pd\n",
    "import random\n",
    "from faker import Faker\n",
    "\n",
    "fake = Faker()\n",
    "Faker.seed(42)\n",
    "random.seed(42)\n",
    "\n",
    "# Sample CPT codes and denial reasons\n",
    "cpt_codes = ['99213', '99214', '93000', '87070', '71020', '20550', '90471', '36415']\n",
    "insurance_companies = ['UnitedHealthcare', 'Aetna', 'Cigna', 'BlueCross', 'Humana', 'Kaiser Permanente']\n",
    "denial_reasons = ['Missing information', 'Charge exceeds fee schedule', 'Non-covered service']\n",
    "\n",
    "# Generate fake data\n",
    "data = []\n",
    "for _ in range(1000):  # Generate 1000 rows\n",
    "    cpt = random.choice(cpt_codes)\n",
    "    insurer = random.choice(insurance_companies)\n",
    "    physician = fake.name()\n",
    "    \n",
    "    results = random.choices([1, 0], weights=[0.3, 0.7])[0]  # 30% denial rate\n",
    "    \n",
    "    if results:\n",
    "        payment = 0\n",
    "        balance = random.randint(80, 300)\n",
    "        denial_reason = random.choice(denial_reasons)\n",
    "    else:\n",
    "        payment = random.randint(80, 300)\n",
    "        balance = 0\n",
    "        denial_reason = None\n",
    "    \n",
    "    data.append({\n",
    "        'CPT Code': cpt,\n",
    "        'Insurance Company': insurer,\n",
    "        'Physician Name': physician,\n",
    "        'Payment Amount': payment,\n",
    "        'Balance': balance,\n",
    "        'Denial Reason': denial_reason,\n",
    "    })\n",
    "\n",
    "# Convert to DataFrame\n",
    "AF_DATA = pd.DataFrame(data)\n",
    "\n",
    "# Save to Excel\n",
    "AF_DATA.to_excel('rcm_data.xlsx', index=False)\n",
    "print(\"Fake RCM data saved to 'fake_rcm_data.xlsx'\")\n"
   ]
  },
  {
   "cell_type": "code",
   "execution_count": 84,
   "id": "72506300",
   "metadata": {},
   "outputs": [],
   "source": [
    "# Define rule for denial with reversed labels (1 = Paid, 0 = Denied)\n",
    "def define_denial(row):\n",
    "    if pd.isnull(row['Payment Amount']) or row['Payment Amount'] == 0:\n",
    "        return 'Denied'  # Denied\n",
    "    else:\n",
    "        return 'Paid'  # Paid\n",
    "\n",
    "AF_DATA['results'] = AF_DATA.apply(define_denial, axis=1)\n"
   ]
  },
  {
   "cell_type": "code",
   "execution_count": 85,
   "id": "789b6e13",
   "metadata": {},
   "outputs": [
    {
     "name": "stdout",
     "output_type": "stream",
     "text": [
      "<class 'pandas.core.frame.DataFrame'>\n",
      "RangeIndex: 1000 entries, 0 to 999\n",
      "Data columns (total 7 columns):\n",
      " #   Column             Non-Null Count  Dtype \n",
      "---  ------             --------------  ----- \n",
      " 0   CPT Code           1000 non-null   object\n",
      " 1   Insurance Company  1000 non-null   object\n",
      " 2   Physician Name     1000 non-null   object\n",
      " 3   Payment Amount     1000 non-null   int64 \n",
      " 4   Balance            1000 non-null   int64 \n",
      " 5   Denial Reason      299 non-null    object\n",
      " 6   results            1000 non-null   object\n",
      "dtypes: int64(2), object(5)\n",
      "memory usage: 54.8+ KB\n"
     ]
    }
   ],
   "source": [
    "AF_DATA.info()"
   ]
  },
  {
   "cell_type": "code",
   "execution_count": 86,
   "id": "849aee91",
   "metadata": {},
   "outputs": [
    {
     "data": {
      "text/plain": [
       "CPT Code               0\n",
       "Insurance Company      0\n",
       "Physician Name         0\n",
       "Payment Amount         0\n",
       "Balance                0\n",
       "Denial Reason        701\n",
       "results                0\n",
       "dtype: int64"
      ]
     },
     "execution_count": 86,
     "metadata": {},
     "output_type": "execute_result"
    }
   ],
   "source": [
    "AF_DATA.isnull().sum()"
   ]
  },
  {
   "cell_type": "code",
   "execution_count": 87,
   "id": "a838f037",
   "metadata": {},
   "outputs": [
    {
     "name": "stderr",
     "output_type": "stream",
     "text": [
      "C:\\Users\\Admin\\AppData\\Local\\Temp\\ipykernel_151104\\666529537.py:2: FutureWarning: A value is trying to be set on a copy of a DataFrame or Series through chained assignment using an inplace method.\n",
      "The behavior will change in pandas 3.0. This inplace method will never work because the intermediate object on which we are setting values always behaves as a copy.\n",
      "\n",
      "For example, when doing 'df[col].method(value, inplace=True)', try using 'df.method({col: value}, inplace=True)' or df[col] = df[col].method(value) instead, to perform the operation inplace on the original object.\n",
      "\n",
      "\n",
      "  AF_DATA['Denial Reason'].fillna(\"No Denial\", inplace=True)\n"
     ]
    }
   ],
   "source": [
    "AF_DATA['Denial Reason'] = AF_DATA['Denial Reason'].replace(\"None\", \"No Denial\")\n",
    "AF_DATA['Denial Reason'].fillna(\"No Denial\", inplace=True)\n",
    "\n"
   ]
  },
  {
   "cell_type": "code",
   "execution_count": 88,
   "id": "99aa9c2a",
   "metadata": {},
   "outputs": [
    {
     "data": {
      "text/html": [
       "<div>\n",
       "<style scoped>\n",
       "    .dataframe tbody tr th:only-of-type {\n",
       "        vertical-align: middle;\n",
       "    }\n",
       "\n",
       "    .dataframe tbody tr th {\n",
       "        vertical-align: top;\n",
       "    }\n",
       "\n",
       "    .dataframe thead th {\n",
       "        text-align: right;\n",
       "    }\n",
       "</style>\n",
       "<table border=\"1\" class=\"dataframe\">\n",
       "  <thead>\n",
       "    <tr style=\"text-align: right;\">\n",
       "      <th></th>\n",
       "      <th>CPT Code</th>\n",
       "      <th>Insurance Company</th>\n",
       "      <th>Physician Name</th>\n",
       "      <th>Payment Amount</th>\n",
       "      <th>Balance</th>\n",
       "      <th>Denial Reason</th>\n",
       "      <th>results</th>\n",
       "    </tr>\n",
       "  </thead>\n",
       "  <tbody>\n",
       "    <tr>\n",
       "      <th>0</th>\n",
       "      <td>99214</td>\n",
       "      <td>UnitedHealthcare</td>\n",
       "      <td>Allison Hill</td>\n",
       "      <td>142</td>\n",
       "      <td>0</td>\n",
       "      <td>No Denial</td>\n",
       "      <td>Paid</td>\n",
       "    </tr>\n",
       "    <tr>\n",
       "      <th>1</th>\n",
       "      <td>87070</td>\n",
       "      <td>Aetna</td>\n",
       "      <td>Noah Rhodes</td>\n",
       "      <td>253</td>\n",
       "      <td>0</td>\n",
       "      <td>No Denial</td>\n",
       "      <td>Paid</td>\n",
       "    </tr>\n",
       "    <tr>\n",
       "      <th>2</th>\n",
       "      <td>99214</td>\n",
       "      <td>Humana</td>\n",
       "      <td>Angie Henderson</td>\n",
       "      <td>87</td>\n",
       "      <td>0</td>\n",
       "      <td>No Denial</td>\n",
       "      <td>Paid</td>\n",
       "    </tr>\n",
       "    <tr>\n",
       "      <th>3</th>\n",
       "      <td>99214</td>\n",
       "      <td>Aetna</td>\n",
       "      <td>Daniel Wagner</td>\n",
       "      <td>0</td>\n",
       "      <td>234</td>\n",
       "      <td>Missing information</td>\n",
       "      <td>Denied</td>\n",
       "    </tr>\n",
       "    <tr>\n",
       "      <th>4</th>\n",
       "      <td>87070</td>\n",
       "      <td>Kaiser Permanente</td>\n",
       "      <td>Cristian Santos</td>\n",
       "      <td>219</td>\n",
       "      <td>0</td>\n",
       "      <td>No Denial</td>\n",
       "      <td>Paid</td>\n",
       "    </tr>\n",
       "    <tr>\n",
       "      <th>...</th>\n",
       "      <td>...</td>\n",
       "      <td>...</td>\n",
       "      <td>...</td>\n",
       "      <td>...</td>\n",
       "      <td>...</td>\n",
       "      <td>...</td>\n",
       "      <td>...</td>\n",
       "    </tr>\n",
       "    <tr>\n",
       "      <th>995</th>\n",
       "      <td>99213</td>\n",
       "      <td>UnitedHealthcare</td>\n",
       "      <td>Brittany Ward</td>\n",
       "      <td>249</td>\n",
       "      <td>0</td>\n",
       "      <td>No Denial</td>\n",
       "      <td>Paid</td>\n",
       "    </tr>\n",
       "    <tr>\n",
       "      <th>996</th>\n",
       "      <td>93000</td>\n",
       "      <td>Cigna</td>\n",
       "      <td>Edward Stanley</td>\n",
       "      <td>192</td>\n",
       "      <td>0</td>\n",
       "      <td>No Denial</td>\n",
       "      <td>Paid</td>\n",
       "    </tr>\n",
       "    <tr>\n",
       "      <th>997</th>\n",
       "      <td>71020</td>\n",
       "      <td>Kaiser Permanente</td>\n",
       "      <td>Christina Johnson</td>\n",
       "      <td>0</td>\n",
       "      <td>288</td>\n",
       "      <td>Charge exceeds fee schedule</td>\n",
       "      <td>Denied</td>\n",
       "    </tr>\n",
       "    <tr>\n",
       "      <th>998</th>\n",
       "      <td>93000</td>\n",
       "      <td>UnitedHealthcare</td>\n",
       "      <td>Edgar Miller</td>\n",
       "      <td>196</td>\n",
       "      <td>0</td>\n",
       "      <td>No Denial</td>\n",
       "      <td>Paid</td>\n",
       "    </tr>\n",
       "    <tr>\n",
       "      <th>999</th>\n",
       "      <td>71020</td>\n",
       "      <td>BlueCross</td>\n",
       "      <td>Elizabeth Sanders</td>\n",
       "      <td>202</td>\n",
       "      <td>0</td>\n",
       "      <td>No Denial</td>\n",
       "      <td>Paid</td>\n",
       "    </tr>\n",
       "  </tbody>\n",
       "</table>\n",
       "<p>1000 rows × 7 columns</p>\n",
       "</div>"
      ],
      "text/plain": [
       "    CPT Code  Insurance Company     Physician Name  Payment Amount  Balance  \\\n",
       "0      99214   UnitedHealthcare       Allison Hill             142        0   \n",
       "1      87070              Aetna        Noah Rhodes             253        0   \n",
       "2      99214             Humana    Angie Henderson              87        0   \n",
       "3      99214              Aetna      Daniel Wagner               0      234   \n",
       "4      87070  Kaiser Permanente    Cristian Santos             219        0   \n",
       "..       ...                ...                ...             ...      ...   \n",
       "995    99213   UnitedHealthcare      Brittany Ward             249        0   \n",
       "996    93000              Cigna     Edward Stanley             192        0   \n",
       "997    71020  Kaiser Permanente  Christina Johnson               0      288   \n",
       "998    93000   UnitedHealthcare       Edgar Miller             196        0   \n",
       "999    71020          BlueCross  Elizabeth Sanders             202        0   \n",
       "\n",
       "                   Denial Reason results  \n",
       "0                      No Denial    Paid  \n",
       "1                      No Denial    Paid  \n",
       "2                      No Denial    Paid  \n",
       "3            Missing information  Denied  \n",
       "4                      No Denial    Paid  \n",
       "..                           ...     ...  \n",
       "995                    No Denial    Paid  \n",
       "996                    No Denial    Paid  \n",
       "997  Charge exceeds fee schedule  Denied  \n",
       "998                    No Denial    Paid  \n",
       "999                    No Denial    Paid  \n",
       "\n",
       "[1000 rows x 7 columns]"
      ]
     },
     "execution_count": 88,
     "metadata": {},
     "output_type": "execute_result"
    }
   ],
   "source": [
    "AF_DATA = pd.DataFrame(AF_DATA)\n",
    "AF_DATA.to_csv('C:/Users/Admin/Desktop/Tensaw AR project/AR_DATA.csv',index=False)\n",
    "AF_DATA"
   ]
  },
  {
   "cell_type": "code",
   "execution_count": 89,
   "id": "6aeac9d4",
   "metadata": {},
   "outputs": [
    {
     "name": "stderr",
     "output_type": "stream",
     "text": [
      "C:\\Users\\Admin\\AppData\\Local\\Temp\\ipykernel_151104\\989829996.py:7: MatplotlibDeprecationWarning: The 'labels' parameter of boxplot() has been renamed 'tick_labels' since Matplotlib 3.9; support for the old name will be dropped in 3.11.\n",
      "  plt.boxplot([AF_DATA[col].dropna() for col in columns_to_check], labels=columns_to_check)\n"
     ]
    },
    {
     "data": {
      "image/png": "[encoded data removed]",
      "text/plain": [
       "<Figure size 1000x600 with 1 Axes>"
      ]
     },
     "metadata": {},
     "output_type": "display_data"
    }
   ],
   "source": [
    "import matplotlib.pyplot as plt\n",
    "\n",
    "# Outlier detection and visualization for Payment Amount and Balance\n",
    "columns_to_check = ['Payment Amount', 'Balance']\n",
    "\n",
    "plt.figure(figsize=(10, 6))\n",
    "plt.boxplot([AF_DATA[col].dropna() for col in columns_to_check], labels=columns_to_check)\n",
    "plt.title('Outlier Detection in Payment Amount & Balance')\n",
    "plt.ylabel('Values')\n",
    "plt.grid(True)\n",
    "plt.show()\n"
   ]
  },
  {
   "cell_type": "code",
   "execution_count": 90,
   "id": "d627d814",
   "metadata": {},
   "outputs": [],
   "source": [
    "import pandas as pd\n",
    "import numpy as np\n",
    "import matplotlib.pyplot as plt\n",
    "from scipy.stats import zscore\n",
    "\n",
    "# Compute Q1, Q3, and IQR\n",
    "Q1 = AF_DATA['Balance'].quantile(0.25)\n",
    "Q3 = AF_DATA['Balance'].quantile(0.75)\n",
    "IQR = Q3 - Q1\n",
    "\n",
    "# Define adaptive lower and upper bounds based on data spread\n",
    "lower_bound = Q1 - 2.0 * IQR  # Increased strictness\n",
    "upper_bound = Q3 + 2.0 * IQR\n",
    "\n",
    "# Apply stricter IQR filtering first\n",
    "AF_DATA_cleaned = AF_DATA[(AF_DATA['Balance'] >= lower_bound) & (AF_DATA['Balance'] <= upper_bound)]\n",
    "\n",
    "# Apply Z-score filtering (removing extreme outliers beyond 2.5 standard deviations)\n",
    "AF_DATA_cleaned = AF_DATA_cleaned[np.abs(zscore(AF_DATA_cleaned['Balance'])) < 2.5]\n",
    "\n",
    "# Apply Log Transformation to normalize data (use np.log1p to handle zero values)\n",
    "AF_DATA_cleaned['Balance'] = np.log1p(AF_DATA_cleaned['Balance'])\n",
    "\n",
    "# Winsorization: Cap extreme values instead of full removal\n",
    "AF_DATA_cleaned['Balance'] = np.clip(AF_DATA_cleaned['Balance'], lower_bound, upper_bound)\n",
    "\n",
    "# Save cleaned dataset\n",
    "AF_DATA_cleaned.to_csv('AF_DATA_cleaned_final.csv', index=False)\n"
   ]
  },
  {
   "cell_type": "code",
   "execution_count": 91,
   "id": "673f9c72",
   "metadata": {},
   "outputs": [
    {
     "data": {
      "image/png": "[encoded data removed]",
      "text/plain": [
       "<Figure size 1200x500 with 2 Axes>"
      ]
     },
     "metadata": {},
     "output_type": "display_data"
    },
    {
     "name": "stdout",
     "output_type": "stream",
     "text": [
      "Original dataset size: 1000\n",
      "Cleaned dataset size: 983\n",
      "Final optimized outlier removal successfully applied!\n"
     ]
    }
   ],
   "source": [
    "# Boxplot comparison to verify further outlier removal\n",
    "plt.figure(figsize=(12, 5))\n",
    "\n",
    "plt.subplot(1, 2, 1)\n",
    "plt.boxplot(AF_DATA['Balance'].dropna())\n",
    "plt.title('Original Balance Column')\n",
    "\n",
    "plt.subplot(1, 2, 2)\n",
    "plt.boxplot(AF_DATA_cleaned['Balance'].dropna())\n",
    "plt.title('Cleaned Balance Column (Final Optimized)')\n",
    "\n",
    "plt.tight_layout()\n",
    "plt.show()\n",
    "\n",
    "# Print summary statistics before and after\n",
    "print(f\"Original dataset size: {AF_DATA.shape[0]}\")\n",
    "print(f\"Cleaned dataset size: {AF_DATA_cleaned.shape[0]}\")\n",
    "print(\"Final optimized outlier removal successfully applied!\")\n"
   ]
  },
  {
   "cell_type": "code",
   "execution_count": 92,
   "id": "1e8971e5",
   "metadata": {},
   "outputs": [
    {
     "name": "stdout",
     "output_type": "stream",
     "text": [
      "Final dataset summary:\n",
      "count    983.000000\n",
      "mean       1.472499\n",
      "std        2.330611\n",
      "min        0.000000\n",
      "25%        0.000000\n",
      "50%        0.000000\n",
      "75%        4.615121\n",
      "max        5.655992\n",
      "Name: Balance, dtype: float64\n"
     ]
    }
   ],
   "source": [
    "print(\"Final dataset summary:\")\n",
    "print(AF_DATA_cleaned['Balance'].describe())"
   ]
  },
  {
   "cell_type": "code",
   "execution_count": 93,
   "id": "798a497a",
   "metadata": {},
   "outputs": [
    {
     "name": "stdout",
     "output_type": "stream",
     "text": [
      "Encoding complete and encoders saved.\n",
      "  CPT Code  Insurance Company  Physician Name  Payment Amount   Balance  \\\n",
      "0    99214                  5              23             142  0.000000   \n",
      "1    87070                  0             734             253  0.000000   \n",
      "2    99214                  3              61              87  0.000000   \n",
      "3    99214                  0             226               0  5.459586   \n",
      "4    87070                  4             197             219  0.000000   \n",
      "\n",
      "   Denial Reason  results  \n",
      "0              2        1  \n",
      "1              2        1  \n",
      "2              2        1  \n",
      "3              1        0  \n",
      "4              2        1  \n"
     ]
    }
   ],
   "source": [
    "from sklearn.preprocessing import LabelEncoder\n",
    "import pickle\n",
    "\n",
    "# Initialize dictionary to store encoders\n",
    "label_encoders = {}\n",
    "\n",
    "# List of columns to encode\n",
    "columns_to_encode = ['Insurance Company', 'Physician Name', 'Denial Reason', 'results']\n",
    "\n",
    "# Apply LabelEncoder\n",
    "for col in columns_to_encode:\n",
    "    le = LabelEncoder()\n",
    "    AF_DATA_cleaned[col] = le.fit_transform(AF_DATA_cleaned[col].astype(str))\n",
    "    label_encoders[col] = le\n",
    "\n",
    "# Save encoders to a pickle file\n",
    "with open('pickle\\\\label_encoders.pkl', 'wb') as f:\n",
    "    pickle.dump(label_encoders, f)\n",
    "\n",
    "print(\"Encoding complete and encoders saved.\")\n",
    "print(AF_DATA_cleaned.head())\n"
   ]
  },
  {
   "cell_type": "code",
   "execution_count": 94,
   "id": "568f0017",
   "metadata": {},
   "outputs": [
    {
     "name": "stdout",
     "output_type": "stream",
     "text": [
      "Logistic Regression:\n",
      "Confusion Matrix : \n",
      " [[ 46   0]\n",
      " [  0 151]]\n",
      "Accuracy :  100.0\n",
      "Random Forest:\n",
      "Confusion Matrix : \n",
      " [[ 46   0]\n",
      " [  0 151]]\n",
      "Accuracy :  100.0\n",
      "Gradient Boosting:\n",
      "Confusion Matrix : \n",
      " [[ 46   0]\n",
      " [  0 151]]\n",
      "Accuracy :  100.0\n",
      "XGBoost:\n",
      "Confusion Matrix : \n",
      " [[ 46   0]\n",
      " [  0 151]]\n",
      "Accuracy :  100.0\n",
      "KNN Classifier:\n",
      "Confusion Matrix : \n",
      " [[ 46   0]\n",
      " [  0 151]]\n",
      "Accuracy :  100.0\n"
     ]
    },
    {
     "name": "stderr",
     "output_type": "stream",
     "text": [
      "c:\\Users\\Admin\\AppData\\Local\\Programs\\Python\\Python312\\Lib\\site-packages\\xgboost\\core.py:158: UserWarning: [23:50:55] WARNING: C:\\buildkite-agent\\builds\\buildkite-windows-cpu-autoscaling-group-i-0015a694724fa8361-1\\xgboost\\xgboost-ci-windows\\src\\learner.cc:740: \n",
      "Parameters: { \"use_label_encoder\" } are not used.\n",
      "\n",
      "  warnings.warn(smsg, UserWarning)\n"
     ]
    }
   ],
   "source": [
    "import pandas as pd\n",
    "from sklearn.model_selection import train_test_split\n",
    "from sklearn.preprocessing import StandardScaler\n",
    "from sklearn.metrics import accuracy_score, precision_score, recall_score, f1_score, confusion_matrix, classification_report\n",
    "from sklearn.ensemble import RandomForestClassifier\n",
    "from sklearn.linear_model import LogisticRegression\n",
    "from sklearn.tree import DecisionTreeClassifier\n",
    "from xgboost import XGBClassifier\n",
    "from sklearn.svm import SVC\n",
    "from sklearn.naive_bayes import GaussianNB\n",
    "from sklearn.linear_model import LogisticRegression\n",
    "from sklearn.ensemble import RandomForestClassifier, GradientBoostingClassifier\n",
    "from sklearn.neighbors import KNeighborsClassifier\n",
    "from xgboost import XGBClassifier\n",
    "from sklearn.metrics import confusion_matrix\n",
    "from sklearn.metrics import accuracy_score\n",
    "\n",
    "\n",
    "\n",
    "\n",
    "# Load processed data\n",
    "df = AF_DATA_cleaned\n",
    "\n",
    "# Step 1: Define features and target\n",
    "X = df.drop(['results'], axis=1)\n",
    "y = df['results']\n",
    "\n",
    "# Step 2: Train-test split\n",
    "X_train, X_test, y_train, y_test = train_test_split(X, y, test_size=0.2, random_state=42)\n",
    "\n",
    "# Step 3: Scale numerical features (optional for tree-based models, but required for SVM, Logistic)\n",
    "scaler = StandardScaler()\n",
    "X_train_scaled = scaler.fit_transform(X_train)\n",
    "X_test_scaled = scaler.transform(X_test)\n",
    "\n",
    "\n",
    "\n",
    "\n",
    "models = {\n",
    "    'Logistic Regression': LogisticRegression(),\n",
    "    'Random Forest': RandomForestClassifier(),\n",
    "    'Gradient Boosting': GradientBoostingClassifier(),\n",
    "    'XGBoost': XGBClassifier(use_label_encoder=False, eval_metric='logloss'),\n",
    "    'KNN Classifier': KNeighborsClassifier()\n",
    "}\n",
    "\n",
    "# Loop through models and evaluate each one\n",
    "for model_name, model in models.items():\n",
    "    # Train the model\n",
    "    model.fit(X_train_scaled, y_train)\n",
    "\n",
    "   \n",
    "    y_pred = model.predict(X_test_scaled)\n",
    "\n",
    "    \n",
    "    cm = confusion_matrix(y_test, y_pred)\n",
    "    \n",
    "    print(f\"{model_name}:\")\n",
    "    print (\"Confusion Matrix : \\n\", cm)\n",
    "    print (\"Accuracy : \", accuracy_score(y_test, y_pred)*100)"
   ]
  },
  {
   "cell_type": "code",
   "execution_count": 95,
   "id": "5fa1c184",
   "metadata": {},
   "outputs": [],
   "source": [
    "import pandas as pd\n",
    "import pickle\n",
    "from sklearn.preprocessing import LabelEncoder\n",
    "\n",
    "df = pd.read_csv('C:/Users/Admin/Desktop/Tensaw AR project/AF_DATA_cleaned.csv')\n",
    "\n",
    "label_encoder_columns = [\"Insurance Company\", \"Physician Name\", \"Denial Reason\"]\n",
    "\n",
    "for col in label_encoder_columns:\n",
    "    le = LabelEncoder()\n",
    "    df[col] = df[col].astype(str)\n",
    "    le.fit(df[col])\n",
    "    with open(f'pickle/label_encoder_{col}.pkl', 'wb') as f:\n",
    "        pickle.dump(le, f)  # ✅ Save the full encoder object\n"
   ]
  },
  {
   "cell_type": "code",
   "execution_count": 96,
   "id": "6f6f4848",
   "metadata": {},
   "outputs": [],
   "source": [
    "with open('pickle\\\\XGBClassifier.pkl', 'wb') as file:\n",
    "    pickle.dump(model, file)\n",
    "with open('pickle\\\\GradientBoostingClassifier.pkl', 'wb') as file:\n",
    "    pickle.dump(model, file)\n",
    "with open('pickle\\\\LogisticRegression.pkl', 'wb') as file:\n",
    "    pickle.dump(model, file)\n",
    "\n",
    "with open('pickle\\\\scaler.pkl', 'wb') as file:\n",
    "    pickle.dump(scaler, file)"
   ]
  }
 ],
 "metadata": {
  "kernelspec": {
   "display_name": "Python 3",
   "language": "python",
   "name": "python3"
  },
  "language_info": {
   "codemirror_mode": {
    "name": "ipython",
    "version": 3
   },
   "file_extension": ".py",
   "mimetype": "text/x-python",
   "name": "python",
   "nbconvert_exporter": "python",
   "pygments_lexer": "ipython3",
   "version": "3.12.4"
  }
 },
 "nbformat": 4,
 "nbformat_minor": 5
}
